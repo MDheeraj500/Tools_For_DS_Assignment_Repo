{
 "cells": [
  {
   "cell_type": "markdown",
   "metadata": {},
   "source": [
    "<center>\n",
    "    <img src=\"https://cf-courses-data.s3.us.cloud-object-storage.appdomain.cloud/IBMDeveloperSkillsNetwork-DS0105EN-SkillsNetwork/labs/Module2/images/SN_web_lightmode.png\" width=\"300\" alt=\"cognitiveclass.ai logo\">\n",
    "</center>\n"
   ]
  },
  {
   "cell_type": "markdown",
   "metadata": {},
   "source": [
    "# My Jupyter Notebook on IBM Watson Studio"
   ]
  },
  {
   "cell_type": "markdown",
   "metadata": {},
   "source": [
    "**Dheeraj Marthand**\n",
    "\n",
    "Enthusiastic Student."
   ]
  },
  {
   "cell_type": "markdown",
   "metadata": {},
   "source": [
    "*Information is power, and data is the root of information. With Data Science comes the power to adapt, improvise and overcome any situation.*"
   ]
  },
  {
   "cell_type": "markdown",
   "metadata": {},
   "source": [
    "### This code is going to show sum of two integers and two floating pointers"
   ]
  },
  {
   "cell_type": "code",
   "execution_count": 4,
   "metadata": {},
   "outputs": [
    {
     "name": "stdout",
     "output_type": "stream",
     "text": [
      "3\n",
      "7.0\n"
     ]
    }
   ],
   "source": [
    "a = 1\n",
    "b = 2\n",
    "c = 3.0\n",
    "d = 4.0\n",
    "\n",
    "print(a+b)\n",
    "print(c+d)"
   ]
  },
  {
   "cell_type": "markdown",
   "metadata": {},
   "source": [
    "1. An example of\n",
    "2. Numbered list\n",
    "\n",
    "*** \n",
    "\n",
    "| cell 1 | cell 2 |\n",
    "| ------ | ------ |\n",
    "| cell 3 | cell 4 |\n",
    "\n",
    "- Here is a Hyper link\n",
    "__[The cutest Dog ever](https://www.google.com/imgres?imgurl=https%3A%2F%2Fkeyassets.timeincuk.net%2Finspirewp%2Flive%2Fwp-content%2Fuploads%2Fsites%2F8%2F2021%2F02%2FGettyImages-997141470-e1614176377827-920x802.jpg&tbnid=UFo0VbS3dFWl7M&vet=12ahUKEwiU6f2jifr9AhUK-HMBHUa0DksQMygAegUIARCeAQ..i&imgrefurl=https%3A%2F%2Fwww.countrylife.co.uk%2Fout-and-about%2Fdogs%2Fthe-top-20-cutest-dog-breeds-in-the-world-ranked-according-to-science-223222&docid=JM8Vk0K4uCzKyM&w=920&h=802&q=cutest%20dog%20ever&ved=2ahUKEwiU6f2jifr9AhUK-HMBHUa0DksQMygAegUIARCeAQ)__"
   ]
  }
 ],
 "metadata": {
  "kernelspec": {
   "display_name": "Python",
   "language": "python",
   "name": "conda-env-python-py"
  },
  "language_info": {
   "codemirror_mode": {
    "name": "ipython",
    "version": 3
   },
   "file_extension": ".py",
   "mimetype": "text/x-python",
   "name": "python",
   "nbconvert_exporter": "python",
   "pygments_lexer": "ipython3",
   "version": "3.7.12"
  }
 },
 "nbformat": 4,
 "nbformat_minor": 4
}
